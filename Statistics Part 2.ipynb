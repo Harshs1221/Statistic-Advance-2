{
 "cells": [
  {
   "cell_type": "markdown",
   "id": "dc4b69a6-3661-488a-af18-97301e4c2bd7",
   "metadata": {},
   "source": [
    "# ASSIGNMENT PART-2"
   ]
  },
  {
   "cell_type": "code",
   "execution_count": null,
   "id": "2454ec71-66cc-444d-afc9-fe7cfaed2acf",
   "metadata": {},
   "outputs": [],
   "source": [
    "#Q1.  What is hypothesis testing in statistics.\n",
    "\"\"\"\n",
    "Ans1. It is a claim  or statement or an assumption about a population parameter that can be tested using statistical methods.\n",
    "      It helps determine whether there is enough evidence to support a specific calim (Hypothesis) or not.\n",
    "\n",
    "      Steps Of hypothesis Testing:\n",
    "\n",
    "      1. Frame the hypothesis:\n",
    "              - Null Hypothesis = This is default assumption that there is no effect or difference. \n",
    "                                  Null Hypothesis always have equilty sign.\n",
    "              - Alternate hypothesis = This is opposite to null hypothesis.\n",
    "\n",
    "      2. Choose Significance Level(α):\n",
    "              - This is threshold for deciding whether to reject the null hypothesis, often set at 0.05 (5%).\n",
    "      \n",
    "      3. Calculate the Test statistic:\n",
    "              - Based on sample data, calculate the test (e.g. Ztest,  t Test)\n",
    "      \n",
    "      4. Compare the Test Staistic to Z-critical or P-value.\n",
    "              - P-value in hypothesis testing is used to decide whether to reject a null hypothesis or not.\n",
    "              - Z-critical checks whether the calculated test statistic falls within the rejection range.\n",
    "      \n",
    "      5. Make a decision:\n",
    "              1. P-value =\n",
    "                      . If the p-value is less than α, reject the null hypothesis.\n",
    "                      . If the p- valuee is greater than α, failed to reject null hypothesis.\n",
    "              2. Z- Critical\n",
    "                      . If z statistics lies in Zcritical region(or greater than), than reject the null hypothesis.\n",
    "                      . If z statistics lies within the non- rejection region, than failed to reject null hypothesis.\n",
    "\"\"\""
   ]
  },
  {
   "cell_type": "code",
   "execution_count": null,
   "id": "9a9b3d5f-8469-45f7-9fca-443c169d1100",
   "metadata": {},
   "outputs": [],
   "source": [
    "#Q2.  What is the null hypothesis, and how does it differ from the alternative hypothesis?\n",
    "\"\"\"\n",
    "Ans2 . Null hypothesis:\n",
    "                . This is default assumption that there is no effect or difference. \n",
    "                . Null hypothesis will always have equlity sign.\n",
    "                  for example : Average salary of IT employee is 50k. Intially this is null hypotheis\n",
    "                                until when there is sufficient evidence is there to disprove it.\n",
    "                    \n",
    "        How is different from alternat Hypothesis?\n",
    "               . Alternate Hypothesis is opposite to null hypothesis.\n",
    "                  For example : Average salary of IT employee is not 50k.\n",
    "\"\"\""
   ]
  },
  {
   "cell_type": "code",
   "execution_count": null,
   "id": "cabebf76-ebf1-4708-8d7a-8f5ffa7cd3e0",
   "metadata": {},
   "outputs": [],
   "source": [
    "#Q3. What is the significance level in hypothesis testing, and why is it important?\n",
    "\"\"\"\n",
    "Ans5. The significance level (α) is the threshold for deciding whether to reject the null hypothesis, often set at 0.05 (5%).\n",
    "        . (5%) is the rejection region:  if the test statistic value is fall in the rejection region than we reject the null\n",
    "          hypothesis.\n",
    "        . If the test statistic does not fall in the rejection region, we fail to reject the null hypothesis.\n",
    "\"\"\"\n"
   ]
  },
  {
   "cell_type": "code",
   "execution_count": null,
   "id": "71d4a441-c66e-4a52-a1c8-d39446d16b21",
   "metadata": {},
   "outputs": [],
   "source": [
    "#Q4. What does a P-value represent in hypothesis testing?\n",
    "\"\"\"\n",
    "Ans4. P-value is the probability value, calculated from a statistical test. P-value in hypothesis testing is used to decide\n",
    "      whether to reject a null-hypothesis or not.\n",
    "\n",
    "        . If p value is less than siginificance value (α), reject the null hypothesis.\n",
    "        . if p value is greater than significance value (α), failed to reject the null hypothesis.\n",
    "\"\"\""
   ]
  },
  {
   "cell_type": "code",
   "execution_count": null,
   "id": "661544a8-c3c9-4db3-8ffb-818caf0e89f1",
   "metadata": {},
   "outputs": [],
   "source": [
    "#Q5.  How do you interpret the P-value in hypothesis testing?\n",
    "\"\"\"\n",
    "Ans5. In hypothesis P-value is used to decide whether accept the null hypothesis or failed to accept the null hypothesis.\n",
    "        . If p-value is less than α, reject the null hypothesis.\n",
    "        . if p-value is greater than α, failed to reject the null hypothesis.\n",
    "\"\"\""
   ]
  },
  {
   "cell_type": "code",
   "execution_count": null,
   "id": "f9c72919-2b13-41a8-97c0-ae4cb87bfcd5",
   "metadata": {},
   "outputs": [],
   "source": [
    "#Q6. What are Type 1 and Type 2 errors in hypothesis testing?\n",
    "\"\"\"\n",
    "Ans6. Type 1:\n",
    "            Type 1 is the rejection of the null hypothesis when it is actually True.\n",
    "            e.g., reject the null hypothesis when it is actually true.\n",
    "      Type 2:\n",
    "            Type 2 error is the failure to reject the null hypothesis when it is actually false.\n",
    "            e.g., Retain the null hypothesis, when it is  actually false\n",
    "\"\"\""
   ]
  },
  {
   "cell_type": "code",
   "execution_count": null,
   "id": "7e709cb7-5e18-41cb-bdf4-785ca0fa6866",
   "metadata": {},
   "outputs": [],
   "source": [
    "#Q7. What is the difference between a one-tailed and a two-tailed test in hypothesis testing?\n",
    "\"\"\"\n",
    "Ans7. One-Tailed test:\n",
    "                . The alternative hypothesis specifies a direction\n",
    "                    (e.g,, \"greater than or \"less than\"\")\n",
    "                . The critical region is located in only one tail of the distribution(either left or right)\n",
    "                . e.g., The battery life is greater than 10 hours\n",
    "      Two-tailed test:\n",
    "                . The alternative hypothesis does not specify a direction(e.g., 'not equal to')\n",
    "                . The critical region are located in both tails of the distributio(left and right).\n",
    "                . The bolt's weight is not 5 grams. (bolt weight not equal to 5)\n",
    "                \n",
    "\"\"\""
   ]
  },
  {
   "cell_type": "code",
   "execution_count": null,
   "id": "9969a147-c033-42ca-860c-6ab37c52f92d",
   "metadata": {},
   "outputs": [],
   "source": [
    "#Q8.  What is the Z-test, and when is it used in hypothesis testing?\n",
    "\"\"\"\n",
    "Ans8. The Z-test is a statistical test in hypothesis testing to detremine whether there is significant\n",
    "      difference between sample data and population, or between two samples.\n",
    "      When it is used?\n",
    "      1. Z-test is typically used when the sample size is large (n>=30)\n",
    "      2. Population standard deviation is given.\n",
    "      3. Its applicable for data follows a normal distribution.\n",
    "\"\"\""
   ]
  },
  {
   "cell_type": "code",
   "execution_count": null,
   "id": "19943e99-7b77-44f3-b710-62c623a8bb01",
   "metadata": {},
   "outputs": [],
   "source": [
    "#Q9. How do you calculate the Z-score, and what does it represent in hypothesis testing?\n",
    "\"\"\"\n",
    "Ans9. Calculation of a Z-score (For Population):\n",
    "\n",
    "                        Z= X-𝜇/σ\n",
    "                        \n",
    "      X = The observed value\n",
    "      𝜇  = Population Mean\n",
    "      σ  = Population Standard Deviation\n",
    "      Calculation of a Z-score (For sample):\n",
    "      \n",
    "                        𝑍=𝑋ˉ−𝜇/(𝜎/ root𝑛)   \n",
    "\n",
    "      𝑋ˉ = The sample mean\n",
    "      𝜇 = Population mean\n",
    "      𝜎 = population standard deviation\n",
    "      n = The sample size\n",
    "\n",
    "      A Z-score represents how many standard deviations a data point is away from the mean.\n",
    "      \n",
    "        It standardizes data to allow comparison across differnt distribution\n",
    "        . A Z-score of 0 means the data point is equal to the mean.\n",
    "        . A positive Z-score indicates a value above the mean.\n",
    "        . A negative Z-score indicates a value below the mean.\n",
    "\"\"\""
   ]
  },
  {
   "cell_type": "code",
   "execution_count": null,
   "id": "d991b59c-0d08-4f84-ac36-3e0fd8264362",
   "metadata": {},
   "outputs": [],
   "source": [
    "#Q10. What is the T-distribution, and when should it be used instead of the normal distribution?\n",
    "\"\"\"\n",
    "Ans10. The T-distribution is like the normal distribution but with heavier tails, meaning it accounts\n",
    "       more variability.\n",
    "\n",
    "       When it is used:\n",
    "           1. Small sample size: \n",
    "                       When sample size is less than 30 (n<30).\n",
    "           2. Unknown Population Standard Deviation:\n",
    "                       When population standard deviation is not given. \n",
    "           3. Approximately normal data:\n",
    "                       The data should be approximately normally distributed for the T-distribution\n",
    "                       to be applicable.\n",
    "        Key differences from Normal distribution:\n",
    "                The T distribution has heavier tails, meaning it give more proability to extreme value.\n",
    "\"\"\""
   ]
  },
  {
   "cell_type": "code",
   "execution_count": null,
   "id": "0ed9f8e3-0ffd-4c2a-b72d-927c149fbc38",
   "metadata": {},
   "outputs": [],
   "source": [
    "#Q11. What is the difference between a Z-test and a T-test?\n",
    "\"\"\"\n",
    "Ans 11. The difference between T-test and Z-test are:\n",
    "        1. Sample Size:\n",
    "           . Z test is used when the sample size large(n>=30).\n",
    "           . T test is used when sample size are small(n<30).\n",
    "        \n",
    "        2. Population Standard Deviation:\n",
    "           . Z test is used when population standard deviation is given.\n",
    "           . T test is used when population standard deviation is not given.\n",
    "        \n",
    "        3. Underlying Distribution:\n",
    "           . Z-test assumes that the data follow a normal distribution.\n",
    "           . T-test works well with the data that may not perfectly follow a normal distribution,\n",
    "             as long as sample size is small and approximately normal.\n",
    "        \n",
    "\"\"\""
   ]
  },
  {
   "cell_type": "code",
   "execution_count": null,
   "id": "dfbc983e-4af6-48ae-ab98-4f2e4024a237",
   "metadata": {},
   "outputs": [],
   "source": [
    "#Q12. What is the T-test, and how is it used in hypothesis testing?\n",
    "\"\"\"\n",
    "Ans12. . T-test is a statistical method used to compare means and test hypothesis.\n",
    "       . It uses the T-distribution to calculate the test statistic and determine whether to reject\n",
    "         the null hypothesis.\n",
    "\"\"\""
   ]
  },
  {
   "cell_type": "code",
   "execution_count": null,
   "id": "dd668b4a-1785-4b6f-9a11-dd348e947c02",
   "metadata": {},
   "outputs": [],
   "source": [
    "#Q13.  What is the relationship between Z-test and T-test in hypothesis testing?\n",
    "\"\"\"\n",
    "Ans13. The Z-test and T-test are both statisical methods used in hypothesis testing to compare means\n",
    "       and determine whether to reject the null hypothesis.\n",
    "       The relationship between these tests are:\n",
    "\n",
    "       1. Both tests rely on comparing sample mean to a population parameter using a standard distribution\n",
    "       2. . The Z-test uses the standard normal disstribution and is typically  used when sample is large\n",
    "            (n>30) and population standard deviation is known.\n",
    "          . The T-test uses the T distribution and us typically used when sample is small(n<30) and \n",
    "            population standard deviation is not known.\n",
    "       3. Connection:\n",
    "               As simple size increases, T-distribution approaches the standard normal distribution.\n",
    "               In large samples, the results of T-test and Z-test become nearly identical.\n",
    "\"\"\""
   ]
  },
  {
   "cell_type": "code",
   "execution_count": null,
   "id": "80611acc-341e-4b53-8a43-b0b13f37c52f",
   "metadata": {},
   "outputs": [],
   "source": [
    "#Q14.  What is a confidence interval, and how is it used to interpret statistical results?\n",
    "\"\"\"\n",
    "Ans14. A confidence interval is a range of values, derived fom sample data, that is likely to contain\n",
    "       the true value of a population parameter with a certain level of confidence.\n",
    "       It is a statistical tool used to measure uncertainity or precision of an estimate.\n",
    "\n",
    "       Key components :\n",
    "           1. Point estimate : The central value(middle one).\n",
    "           2. Margin of error: The range around the point estimate that accounts for\n",
    "                               variability.\n",
    "           3. Confidnce level: The percentage that representtsthe likelihood the interval\n",
    "                               contains the true value. (e.g.,95%)\n",
    "\n",
    "        Interpretation:\n",
    "                I am  95% confident that the mean scoree in the exam lies between 467.3 and 532.6.\n",
    "\n",
    "                . Confidence Interval: 467.33 and 532.6\n",
    "                . Confidence Level:  95%\n",
    "                . margin of error: Calculated as the distance between the point estimate and the bounds of the interval.\n",
    "                \n",
    "\"\"\""
   ]
  },
  {
   "cell_type": "code",
   "execution_count": null,
   "id": "224b92df-8d2b-4e20-a21c-26d122615d52",
   "metadata": {},
   "outputs": [],
   "source": [
    "#Q15. What is the margin of error, and how does it affect the confidence interval?\n",
    "\"\"\"\n",
    "Ans15. The margin of error is measure of the uncertanity or variability in a statistical estimate.\n",
    "       It defines the range within which the true value of a population parameter is likely to fall,\n",
    "       based on the sample data.\n",
    "\n",
    "        For example:\n",
    "                Imagine you conduct a survey to estmate the average amount of students in a college\n",
    "                spend studying each day. Based on the sample of 50 students, you calculat the average\n",
    "                to be 5 hours. Confidence level is 95% and margin of error is +-1hour.\n",
    "\n",
    "                What the margin of error does:\n",
    "                    It tells you that the true average study time is likely to fall within a range \n",
    "                    around sample mean, 5 ± 1 hours.\n",
    "                Confidence interval:\n",
    "                    Using the margin of error, calculate the confidence interval as follows:\n",
    "                        . Lower bound = 5-1 = 4 hours\n",
    "                        . Upper bound = 5+1 = 6 hours\n",
    "\n",
    "                So, the confidence interval is 4 to 6 hours and you are 95% confident that the \n",
    "                true average falls within this range.\n",
    "\n",
    "        Margin of error firectly affects the width of confidence level. \n",
    "        . If you have larger margin of error (e.g., ±2 hours), the interval becomes wider(3to7 hours),\n",
    "          showing more uncertainity\n",
    "        . A smaller margin of error(e.g.,±0.5 hours) results a narrower interval(4.5 to 5.5 hours),\n",
    "          providing a more precise estimate.\n",
    "\"\"\""
   ]
  },
  {
   "cell_type": "code",
   "execution_count": null,
   "id": "2dbc314b-06f5-417f-a6d8-e5651306f906",
   "metadata": {},
   "outputs": [],
   "source": [
    "#Q16.  How is Bayes' Theorem used in statistics, and what is its significance?\n",
    "\"\"\"\n",
    "Ans16. Bayes' theorm is a powerful concept in statistics that allow you to update the probability\n",
    "       of a hypothesis baased on a new evidence.\n",
    "               Bays' Theoram Formula:\n",
    "                           𝑃(𝐴∣𝐵)= 𝑃(𝐵∣𝐴)⋅𝑃(𝐴) / 𝑃(𝐵)\n",
    "\n",
    "        Uses of Bayes' Theoram:\n",
    "        \n",
    "        1. Hypothesis Testing:\n",
    "                It helps assess how strongly data supports a particular hypothesis.\n",
    "        2. Classification Problem:\n",
    "                Widely used in machine learning(e.g., Naive Bayes classifier for spam filtering)\n",
    "        3. Decision Making:\n",
    "                Assists in making decisions under uncertainity by refining probabilities with \n",
    "                new evidence.\n",
    "        \n",
    "        Significance:\n",
    "        1. Incorporates New Information:\n",
    "                    It allows probabilities to be dynamically updated as new data becomes available.\n",
    "        2. Real-World Applicability:\n",
    "                    Used in field like finance(risk assessment), medicine(diagonistics) and \n",
    "                    artifical intelligence.\n",
    "        3. Foundtion of Bayesian Statistics:\n",
    "                    Enables robust approaches for modelling uncertainites and make predicition. \n"
   ]
  },
  {
   "cell_type": "code",
   "execution_count": null,
   "id": "8aeca02d-15a4-4459-9e4c-93c0edad8112",
   "metadata": {},
   "outputs": [],
   "source": [
    "#Q17.  What is the Chi-square distribution, and when is it used?\n",
    "\"\"\"\n",
    "Ans17. The Chi-square distribution is a probability distribution that describes the distribution\n",
    "       of a sum of square of k random variable.\n",
    "       It is used when:\n",
    "           . Goodness of Fit test: \n",
    "                   To determine if observed data fits a theoritical distribution.\n",
    "           . Independence Test:\n",
    "                   To check if two categorical values are independent.\n",
    "           . Variance Analysis:\n",
    "                   To estimate the variance of a population.\n",
    "\"\"\""
   ]
  },
  {
   "cell_type": "code",
   "execution_count": null,
   "id": "e70a4a8c-3727-4f38-b6b8-57aeddf68b03",
   "metadata": {},
   "outputs": [],
   "source": [
    "#Q18.  What is the Chi-square goodness of fit test, and how is it applied?\n",
    "\"\"\"\n",
    "Ans18. The Chi-square goodness of fit test is a statistical test used to determine whether\n",
    "       observed data matches and expected distribution.\n",
    "         Formula:              \n",
    "                       𝜒2= ∑(𝑂−𝐸)2 / 𝐸\n",
    "                       \n",
    "        O: Observed frequencies\n",
    "        E: Expected Frequencies\n",
    "\n",
    "        how it is applied:\n",
    "            1. Calculate the Chi-square value.\n",
    "            2. Compared to critical value:\n",
    "                . If 𝜒2 > critical value. Then reject the null hypothesis, meaning the data\n",
    "                  does not fit the expected distribution.\n",
    "                . If 𝜒2 < critical value. Then fail to reject the null hypothesis, meaning the data\n",
    "                  likely fit the expected distribution.\n",
    "\"\"\""
   ]
  },
  {
   "cell_type": "code",
   "execution_count": null,
   "id": "3191f2e3-9fc8-49d8-8d9d-1f9eeddd4998",
   "metadata": {},
   "outputs": [],
   "source": [
    "#Q19. What is the F-distribution, and when is it used in hypothesis testing?\n",
    "\"\"\"\n",
    "Ans19. The F-distribution is a probability distribution that is useful in the context of comparing variances \n",
    "       of two or more sample.\n",
    "       It is right skewed and takes only no negative values.\n",
    "       \n",
    "       When it is used?\n",
    "       1. Hypothesis testing: \n",
    "                   To evaluate if sample variances differ significantly.\n",
    "       2. Analysis of variance(ANOVA):\n",
    "                   To test if the mans os multipl groups are significantly different.\n",
    "       3. Regression Analysis:\n",
    "                   To compare the fit of different models.\n",
    "\"\"\""
   ]
  },
  {
   "cell_type": "code",
   "execution_count": null,
   "id": "1b8bb6e6-fac2-4bd5-af3f-a3b84aa8fbd3",
   "metadata": {},
   "outputs": [],
   "source": [
    "#Q20. What is an ANOVA test, and what are its assumptions?\n",
    "\"\"\"\n",
    "Ans20. ANOVA is a statistical method is used to compare the means of two or more groups.\n",
    "       \n",
    "       Assumption:\n",
    "           . The population from which sample are drawn should be normally distributed.\n",
    "           . The sample must be independent os each other.\n",
    "           . Absence of outlier.\n",
    "           . Homogenity of variance:\n",
    "                   Homogenity means that the variance among the group should be approximately equal.\n",
    "\"\"\""
   ]
  },
  {
   "cell_type": "code",
   "execution_count": null,
   "id": "93d64ba2-9255-4814-a126-57906c5e626c",
   "metadata": {},
   "outputs": [],
   "source": [
    "#Q21. What are the different types of ANOVA tests?\n",
    "\"\"\"\n",
    "Ans 21. Types of ANOVA test are:\n",
    "          . 1. One Way ANOVA:\n",
    "                  One factor with at least two levels and levels are independent.\n",
    "                  e.g., Medicine(factor) - 0mg level\n",
    "                                         - 10mg level\n",
    "                                         - 100mg level\n",
    "          . 2. Repeated Measure ANOVA:\n",
    "                  One factor with atleast two level but level are independent.\n",
    "                  Example: Measuring the performance of students before and after training.\n",
    "                  \n",
    "          . 3. Factorial ANOVA:\n",
    "                  Two or more factors each of which with atleast two levels. Levels can be either\n",
    "                  dependent, independent or both.\n",
    "                  Example: Studying the impact of both gender and age group on test scores.\n",
    "\"\"\""
   ]
  },
  {
   "cell_type": "code",
   "execution_count": null,
   "id": "9d5a29d1-84ec-4244-9279-71ed675daed4",
   "metadata": {},
   "outputs": [],
   "source": [
    "#Q22.  What is the F-test, and how does it relate to hypothesis testing?\n",
    "\"\"\"\n",
    "Ans22. The F-test is a statistical test uesd to compare variances between two groups\n",
    "       or more.\n",
    "       It evaluate whether the differences in variances are significant or due to random\n",
    "       choices.\n",
    "       \n",
    "       For example in Hypothsis Testing :\n",
    "         . Null Hypothesis: Assumes that the variances of the groups are equal.\n",
    "         \n",
    "         . Alternate Hypothesis: Assumes that at one varaince if different.\n",
    "         \n",
    "         . The test computes an F-statistic and compare it to acritical value obtained from \n",
    "           the F-distrbution table based on degree of freedom and the significance level(e.g., 0.05)\n",
    "           \n",
    "         . If F statistic is larger than critical value, the null hypothesis is rejected, \n",
    "           indicating significant differences in variances.\n",
    "\n",
    "       \n",
    "\"\"\""
   ]
  },
  {
   "cell_type": "code",
   "execution_count": null,
   "id": "a0c09d07-f874-4b24-b72e-71e9827364fd",
   "metadata": {},
   "outputs": [],
   "source": [
    "#Practical Question"
   ]
  },
  {
   "cell_type": "code",
   "execution_count": 6,
   "id": "fe7b00dc-87ec-4877-a9f1-78ae8dbcc7f6",
   "metadata": {},
   "outputs": [],
   "source": [
    "#Q1. Write a Python program to perform a Z-test for comparing a sample mean to a known population mean and interpret the results.\n",
    "\"\"\"\n",
    "Ans1. \n",
    "\"\"\"\n",
    "import numpy as np\n",
    "from scipy.stats import norm\n",
    "\n",
    "population_mean = 100\n",
    "population_std = 15\n",
    "sample =[102,9,95,110,105]\n",
    "significance_level = 0.05"
   ]
  },
  {
   "cell_type": "code",
   "execution_count": 8,
   "id": "9d4ab8d9-516a-4854-89ff-004711ae04a1",
   "metadata": {},
   "outputs": [],
   "source": [
    "#calculation\n",
    "sample_mean = np.mean(sample)\n",
    "sample_size = len(sample)"
   ]
  },
  {
   "cell_type": "code",
   "execution_count": 22,
   "id": "3a9cd443-c9b4-4b1a-8783-8f0152857d88",
   "metadata": {},
   "outputs": [
    {
     "name": "stdout",
     "output_type": "stream",
     "text": [
      "Z-Score:-2.36\n",
      "P-value:0.02\n"
     ]
    }
   ],
   "source": [
    "#Z-test Statsitic\n",
    "z_score = (sample_mean - population_mean)/(population_std/np.sqrt(sample_size))\n",
    "\n",
    "#p-value for two tailed test\n",
    "p_value = 2*(1-norm.cdf(abs(z_score)))\n",
    "\n",
    "print(f'Z-Score:{z_score:.2f}')\n",
    "print(f'P-value:{p_value:.2f}')"
   ]
  },
  {
   "cell_type": "code",
   "execution_count": 26,
   "id": "ba2388d6-e7c9-40f4-964a-501d20af73dd",
   "metadata": {},
   "outputs": [
    {
     "name": "stdout",
     "output_type": "stream",
     "text": [
      "Reject the null hypothesis: The sample mean is significantly different from population mean\n"
     ]
    }
   ],
   "source": [
    "#interpretation\n",
    "if p_value < significance_level:\n",
    "    print(\"Reject the null hypothesis: The sample mean is significantly different from population mean\")\n",
    "else:\n",
    "    print(\"fail to reject the null hypothesis\")"
   ]
  },
  {
   "cell_type": "code",
   "execution_count": 38,
   "id": "7b87ea83-d800-4168-86d0-412cf33822b0",
   "metadata": {},
   "outputs": [],
   "source": [
    "#Q2. Simulate random data to perform hypothesis testing and calculate the corresponding P-value using Python.\n",
    "import numpy as np\n",
    "from scipy.stats import norm\n",
    "\n",
    "pop_mean = 50\n",
    "pop_std = 10\n",
    "sample_size = 20\n",
    "sample = np.random.normal(pop_mean,pop_std,sample_size)\n",
    "\n",
    "#Hypothesis test parameter\n",
    "hypothesized_mean = 52\n",
    "significance_level = 0.05"
   ]
  },
  {
   "cell_type": "code",
   "execution_count": 47,
   "id": "df45602f-0103-41da-8160-7a280211eabe",
   "metadata": {},
   "outputs": [
    {
     "name": "stdout",
     "output_type": "stream",
     "text": [
      "Z- Score: 0.53\n",
      "P-Value: 0.02\n"
     ]
    }
   ],
   "source": [
    "#calculate sample mean\n",
    "sample_mean = np.mean(sample)\n",
    "\n",
    "# perform Z-test\n",
    "Z_score = (sample_mean - pop_mean)/(pop_std/np.sqrt(sample_size))\n",
    "\n",
    "# p-value \n",
    "p_value = 2* (1-norm.cdf(abs(z_score)))\n",
    "\n",
    "print(f'Z- Score: {Z_score:.2f}')\n",
    "print(f'P-Value: {p_value:.2f}')"
   ]
  },
  {
   "cell_type": "code",
   "execution_count": 51,
   "id": "bbf44026-7174-40c4-84e9-bb45818f373a",
   "metadata": {},
   "outputs": [
    {
     "name": "stdout",
     "output_type": "stream",
     "text": [
      "Reject the null hypothesis: Sample mean is significantly different from pop mean\n"
     ]
    }
   ],
   "source": [
    "# interpretation\n",
    "if p_value < significance_level:\n",
    "    print(\"Reject the null hypothesis: Sample mean is significantly different from pop mean\")\n",
    "else:\n",
    "    print(\"fail to reject the null hypothesis\")"
   ]
  },
  {
   "cell_type": "code",
   "execution_count": 59,
   "id": "8e0c01df-8b99-4064-8da8-af215cb22ee7",
   "metadata": {},
   "outputs": [
    {
     "name": "stdout",
     "output_type": "stream",
     "text": [
      "Z- Score: -0.32\n",
      "P-Value: 0.02\n"
     ]
    }
   ],
   "source": [
    "#Q3. Implement a one-sample Z-test using Python to compare the sample mean with the population mean\n",
    "pop_mean = 50\n",
    "pop_std = 10\n",
    "sample_size = 20\n",
    "sample = np.random.normal(pop_mean,pop_std,sample_size)\n",
    "\n",
    "#Hypothesis test parameter\n",
    "hypothesized_mean  = 52 ##(Null Hypothesis)\n",
    "significance_level = 0.05\n",
    "\n",
    "#calculate sample mean\n",
    "sample_mean = np.mean(sample)\n",
    "\n",
    "# perform Z-test\n",
    "Z_score = (sample_mean - hypothesized_mean)/(pop_std/np.sqrt(sample_size))\n",
    "\n",
    "# p-value \n",
    "p_value = 2* (1-norm.cdf(abs(z_score)))\n",
    "\n",
    "print(f'Z- Score: {Z_score:.2f}')\n",
    "print(f'P-Value: {p_value:.2f}')"
   ]
  },
  {
   "cell_type": "code",
   "execution_count": 61,
   "id": "843543f9-ef44-416c-bacb-9871c3bf4b16",
   "metadata": {},
   "outputs": [
    {
     "name": "stdout",
     "output_type": "stream",
     "text": [
      "Reject the null hypothesis: Sample mean is significantly different from pop mean\n"
     ]
    }
   ],
   "source": [
    "# interpretation\n",
    "if p_value < significance_level:\n",
    "    print(\"Reject the null hypothesis: Sample mean is significantly different from pop mean\")\n",
    "else:\n",
    "    print(\"fail to reject the null hypothesis\")"
   ]
  },
  {
   "cell_type": "code",
   "execution_count": 79,
   "id": "17695350-7198-4aed-b9da-7d01210c37b2",
   "metadata": {},
   "outputs": [
    {
     "name": "stdout",
     "output_type": "stream",
     "text": [
      "Z- Score: -3.40\n",
      "P-Value: 0.02\n"
     ]
    }
   ],
   "source": [
    "#Q4.  Perform a two-tailed Z-test using Python and visualize the decision region on a plot\n",
    "\"\"\"\n",
    "Ans4. Imagine that you are studying the average score of students on an exam. The population \n",
    "      mean score is 70, and the population standard deviation is 10. You randomly collect a sample \n",
    "      of 30 students, and the sample mean score is tested against a hypothesized mean of 75. We will \n",
    "      perform a two-tailed Z-test at a significance level of 0.05.\n",
    "\"\"\"\n",
    "pop_mean = 70\n",
    "pop_std = 10\n",
    "sample_size = 30\n",
    "sample = np.random.normal(pop_mean,pop_std,sample_size)\n",
    "\n",
    "#Hypothesis test parameter\n",
    "hypothesized_mean  = 75  ##Null hypothesized\n",
    "significance_level = 0.05\n",
    "\n",
    "#calculate sample mean\n",
    "sample_mean = np.mean(sample)\n",
    "\n",
    "# perform Z-test\n",
    "Z_score = (sample_mean - hypothesized_mean)/(pop_std/np.sqrt(sample_size))\n",
    "\n",
    "# p-value \n",
    "p_value = 2* (1-norm.cdf(abs(z_score)))\n",
    "\n",
    "print(f'Z- Score: {Z_score:.2f}')\n",
    "print(f'P-Value: {p_value:.2f}')\n",
    "\n"
   ]
  },
  {
   "cell_type": "code",
   "execution_count": 81,
   "id": "b44e3ea1-b915-4311-8406-459f3bd32db0",
   "metadata": {},
   "outputs": [
    {
     "name": "stdout",
     "output_type": "stream",
     "text": [
      "Reject the null hypothesis: Sample mean is significantly different from pop mean\n"
     ]
    }
   ],
   "source": [
    "# interpretation\n",
    "if p_value < significance_level:\n",
    "    print(\"Reject the null hypothesis: Sample mean is significantly different from pop mean\")\n",
    "else:\n",
    "    print(\"fail to reject the null hypothesis\")"
   ]
  },
  {
   "cell_type": "code",
   "execution_count": 115,
   "id": "ed16f2c0-c6cb-45d5-821b-d788f9b3b2ed",
   "metadata": {},
   "outputs": [],
   "source": [
    "##Visulaization\n",
    "import matplotlib.pyplot as plt\n",
    "x = np.linspace(-4,4,1000)\n",
    "critical_value = norm.ppf(1- significance_level/2) # critical value for two tail test"
   ]
  },
  {
   "cell_type": "code",
   "execution_count": 125,
   "id": "1b54501b-b878-46eb-bf65-eb3b45a28e54",
   "metadata": {},
   "outputs": [
    {
     "data": {
      "image/png": "[encoded data removed]",
      "text/plain": [
       "<Figure size 640x480 with 1 Axes>"
      ]
     },
     "metadata": {},
     "output_type": "display_data"
    }
   ],
   "source": [
    "# plot Standard normal distribution\n",
    "plt.plot(x, norm.pdf(x), label = 'Standard Normal Distribution')\n",
    "plt.axvline(critical_value, color = 'red', linestyle='--', label = f'Rejection Region(+{critical_value:.2f})')\n",
    "plt.axvline(-critical_value, color = 'red', linestyle='--', label = f'Rejection Region(-{critical_value:.2f})')\n",
    "plt.axvline(z_score, color = 'olive', linestyle='-', label = f'Z-Score ({z_score:.2f})')\n",
    "\n",
    "plt.legend(loc='upper right')\n",
    "plt.title('Decision Region for Two-Tailed Z-Test')\n",
    "plt.xlabel('Z-score')\n",
    "plt.ylabel('Probability Density')\n",
    "plt.show()"
   ]
  },
  {
   "cell_type": "code",
   "execution_count": 222,
   "id": "5192eebf-d7d3-4f5b-b842-988e132efde1",
   "metadata": {},
   "outputs": [
    {
     "data": {
      "image/png": "[encoded data removed]",
      "text/plain": [
       "<Figure size 640x480 with 1 Axes>"
      ]
     },
     "metadata": {},
     "output_type": "display_data"
    }
   ],
   "source": [
    "#Q5. Create a Python function that calculates and visualizes Type 1 and Type 2 errors during hypothesis testing.\n",
    "import numpy as np\n",
    "import matplotlib.pyplot as plt\n",
    "\n",
    "def visualize_errors():\n",
    "    # Define mean and standard deviation for null and alternative hypotheses\n",
    "    null_mean = 0\n",
    "    alt_mean = 2\n",
    "    std_dev = 1\n",
    "    x = np.linspace(-4, 6, 1000)\n",
    "    # Calculate the probability density for null and alternative distributions\n",
    "    null_dist = (1 / (np.sqrt(2 * np.pi) * std_dev)) * np.exp(-0.5 * ((x - null_mean) / std_dev)**2)\n",
    "    alt_dist = (1 / (np.sqrt(2 * np.pi) * std_dev)) * np.exp(-0.5 * ((x - alt_mean) / std_dev)**2)\n",
    "    \n",
    "    # Define the significance level (alpha)\n",
    "    alpha = 0.05\n",
    "    critical_value = 1.64  # For simplicity, we set this value\n",
    "    \n",
    "    # Plot the distributions\n",
    "    plt.plot(x, null_dist, label='Null Hypothesis', color='blue')\n",
    "    plt.plot(x, alt_dist, label='Alternative Hypothesis', color='orange')\n",
    "    \n",
    "    # Shade the regions for Type 1 and Type 2 errors\n",
    "    plt.fill_between(x, null_dist, where=(x > critical_value), color='lightblue', alpha=0.5, label='Type 1 Error')\n",
    "    plt.fill_between(x, alt_dist, where=(x < critical_value), color='peachpuff', alpha=0.5, label='Type 2 Error')\n",
    "    plt.title('Type 1 and Type 2 Errors')\n",
    "    plt.xlabel('Test Statistic')\n",
    "    plt.ylabel('Probability Density')\n",
    "    plt.legend()\n",
    "    plt.show()\n",
    "\n",
    "# Call the function to visualize the errors\n",
    "visualize_errors()"
   ]
  },
  {
   "cell_type": "code",
   "execution_count": 148,
   "id": "178801c4-7615-4d16-8119-0a14f71e1095",
   "metadata": {},
   "outputs": [
    {
     "name": "stdout",
     "output_type": "stream",
     "text": [
      "P-value: 0.000\n",
      "T-Statistic: 8.16\n"
     ]
    }
   ],
   "source": [
    "#Q6. Write a Python program to perform an independent T-test and interpret the results.\n",
    "from scipy.stats import ttest_ind\n",
    "\n",
    "#Test score from two group\n",
    "group1 = [85, 90, 88, 86, 87, 89, 91, 92]  \n",
    "group2 = [78, 76, 80, 82, 77, 79, 81, 75]\n",
    "\n",
    "#perfrom independent t-test\n",
    "t_stat, p_value = ttest_ind(group1, group2, equal_var=True)\n",
    "\n",
    "#Results\n",
    "print(f'P-value: {p_value:.3f}')\n",
    "print(f'T-Statistic: {t_stat:.2f}')"
   ]
  },
  {
   "cell_type": "code",
   "execution_count": 152,
   "id": "f97a9e2d-2cb5-406a-b08a-a239f13b17fc",
   "metadata": {},
   "outputs": [
    {
     "name": "stdout",
     "output_type": "stream",
     "text": [
      "Reject the null hypothesis\n"
     ]
    }
   ],
   "source": [
    "#Interpretation\n",
    "alpha = 0.05\n",
    "if p_value < alpha:\n",
    "    print(\"Reject the null hypothesis\")\n",
    "else:\n",
    "    print(\"Fail to reject the null hypothesis\")"
   ]
  },
  {
   "cell_type": "code",
   "execution_count": null,
   "id": "21382d8d-7b8b-41ef-b8e8-9d49a84293f5",
   "metadata": {},
   "outputs": [],
   "source": [
    "#Q7.  Perform a paired sample T-test using Python and visualize the comparison results\n",
    "\"\"\"\n",
    "Scenario: Imagine a group of students took a test before and after completing a training\n",
    "          program. You want to determine if the training program significantly impacted \n",
    "          their test scores by comparing the two related sets of scores (before vs after).\n",
    "\"\"\""
   ]
  },
  {
   "cell_type": "code",
   "execution_count": 162,
   "id": "c11d9603-2b33-4f88-89e7-5f96b2135203",
   "metadata": {},
   "outputs": [
    {
     "name": "stdout",
     "output_type": "stream",
     "text": [
      "T-Statistic: -10.41\n",
      "P-value: 0.000\n"
     ]
    }
   ],
   "source": [
    "from scipy.stats import ttest_rel\n",
    "#Test Scores\n",
    "before_training = [65, 70, 68, 75, 72, 66, 74, 69, 71, 67]\n",
    "after_training = [75, 78, 72, 80, 77, 73, 81, 74, 76, 72]\n",
    "\n",
    "#performed pir sample T-test\n",
    "t_stat, p_value = ttest_rel(before_training, after_training)\n",
    "\n",
    "#Result\n",
    "print(f'T-Statistic: {t_stat:.2f}')\n",
    "print(f'P-value: {p_value:.3f}')"
   ]
  },
  {
   "cell_type": "code",
   "execution_count": 210,
   "id": "6546ef09-e09b-415d-8be4-bc6e7c152b78",
   "metadata": {},
   "outputs": [
    {
     "data": {
      "image/png": "[encoded data removed]",
      "text/plain": [
       "<Figure size 640x480 with 1 Axes>"
      ]
     },
     "metadata": {},
     "output_type": "display_data"
    }
   ],
   "source": [
    "#visulaization\n",
    "x= np.arange(len(before_training))\n",
    "width = 0.4\n",
    "\n",
    "#plot bar\n",
    "plt.bar(x - width/2, before_training, width, label='Before Training', color='blue')\n",
    "plt.bar(x + width/2, after_training, width, label='After Training', color='green')\n",
    "\n",
    "plt.title(\"Before and After Training Scores\")\n",
    "plt.xlabel('Participants')\n",
    "plt.ylabel('Scores')\n",
    "plt.legend()\n",
    "plt.xticks(x, [f'P{i+1}' for i in x])\n",
    "plt.show()"
   ]
  },
  {
   "cell_type": "code",
   "execution_count": 228,
   "id": "35518836-e92f-4131-a1fd-126e588edcc0",
   "metadata": {},
   "outputs": [],
   "source": [
    "#Q8. Simulate data and perform both Z-test and T-test, then compare the results using Python\n",
    "import numpy as np\n",
    "from scipy.stats import norm, ttest_1samp\n",
    "\n",
    "#sample data\n",
    "group = [80, 85, 78, 90, 75, 88, 79, 84, 77, 82]\n",
    "sample_mean = np.mean(group)\n",
    "sample_size = len(group)\n",
    "population_mean = 75\n",
    "\n",
    "#ztest\n",
    "pop_std = 10\n",
    "z_score = (sample_mean-population_mean) / (pop_std/np.sqrt(sample_size))\n",
    "p_value = 2 * (1-norm.cdf(abs(z_score)))"
   ]
  },
  {
   "cell_type": "code",
   "execution_count": 232,
   "id": "9db3d5d4-92ec-4eed-acb2-402ecd5b8333",
   "metadata": {},
   "outputs": [],
   "source": [
    "#t test\n",
    "t_stat, p_value_t = ttest_1samp(group,population_mean)"
   ]
  },
  {
   "cell_type": "code",
   "execution_count": 236,
   "id": "905b3244-f2b9-4467-93d5-11258fbdec22",
   "metadata": {},
   "outputs": [
    {
     "name": "stdout",
     "output_type": "stream",
     "text": [
      "One sample Z-test\n",
      " Z-score: 2.15\n",
      " P-Value: 0.032\n",
      "One sample T test\n",
      " T-statistic: 4.39\n",
      " P-value : 0.00\n"
     ]
    }
   ],
   "source": [
    "#result\n",
    "print(\"One sample Z-test\")\n",
    "print(f' Z-score: {z_score:.2f}')\n",
    "print(f' P-Value: {p_value:.3f}')\n",
    "\n",
    "print(\"One sample T test\")\n",
    "print(f' T-statistic: {t_stat:.2f}')\n",
    "print(f' P-value : {p_value_t:.2f}')"
   ]
  },
  {
   "cell_type": "code",
   "execution_count": 240,
   "id": "836d1115-c724-4920-bf20-2ee360cac796",
   "metadata": {},
   "outputs": [
    {
     "name": "stdout",
     "output_type": "stream",
     "text": [
      "Z-test: reject the null hypothesis\n"
     ]
    }
   ],
   "source": [
    "#Interpretation\n",
    "alpha = 0.05\n",
    "if p_value < alpha:\n",
    "    print(\"Z-test: reject the null hypothesis\")\n",
    "else:\n",
    "    print(\"Z-test: Fail to reject the null hypothesis\")"
   ]
  },
  {
   "cell_type": "code",
   "execution_count": 242,
   "id": "1ee4ba72-f0e3-4036-8389-6b5ff6b84b3b",
   "metadata": {},
   "outputs": [
    {
     "name": "stdout",
     "output_type": "stream",
     "text": [
      "T-test: reject the null hypothesis\n"
     ]
    }
   ],
   "source": [
    "if p_value_t < alpha:\n",
    "    print(\"T-test: reject the null hypothesis\")\n",
    "else:\n",
    "    print(\"T-test: Fail to reject the null hypothesis\")"
   ]
  },
  {
   "cell_type": "code",
   "execution_count": 282,
   "id": "59707946-6378-49e1-aaf7-993fcba55ff1",
   "metadata": {},
   "outputs": [],
   "source": [
    "#Q9. Write a Python function to calculate the confidence interval for a sample mean and explain its significance.\n",
    "import numpy as np\n",
    "from scipy.stats import norm\n",
    "\n",
    "def calculate_confidence_interval(data,confidence_level):\n",
    "    \"\"\"\n",
    "    :data = List of sample data\n",
    "    :confidence_level: Confidence level(e.g., 0.95 for 95%)\n",
    "    \"\"\"\n",
    "    #calculate statistics\n",
    "    sample_mean = np.mean(data)\n",
    "    sample_std = np.std(data, ddof =1)\n",
    "    sampe_size = len(data)\n",
    "\n",
    "    #calculate margin of error\n",
    "    z_value = norm.ppf((1+confidence_level)/2)\n",
    "    margin_of_error = z_value *(sample_std/np.sqrt(sample_size)) \n",
    "\n",
    "    #Confidence Interval\n",
    "    lower_bound = round(sample_mean - margin_of_error,2)\n",
    "    upper_bound = round(sample_mean + margin_of_error,2)\n",
    "\n",
    "    return lower_bound, upper_bound"
   ]
  },
  {
   "cell_type": "code",
   "execution_count": 284,
   "id": "053a1056-66f0-4c42-ac6a-d30049098d2c",
   "metadata": {},
   "outputs": [],
   "source": [
    "sample_data = [85, 88, 91, 87, 84, 90, 86, 89, 88, 92]\n",
    "confidence = 0.95"
   ]
  },
  {
   "cell_type": "code",
   "execution_count": 286,
   "id": "1971c4b8-6137-4b79-bfd8-a1beedd0e388",
   "metadata": {},
   "outputs": [
    {
     "data": {
      "text/plain": [
       "(86.4, 89.6)"
      ]
     },
     "execution_count": 286,
     "metadata": {},
     "output_type": "execute_result"
    }
   ],
   "source": [
    "calculate_confidence_interval(sample_data,confidence)"
   ]
  },
  {
   "cell_type": "code",
   "execution_count": null,
   "id": "1c4f6917-ff29-4a47-9289-e1f3da264afb",
   "metadata": {},
   "outputs": [],
   "source": [
    "\"\"\"\n",
    "Significance of Confidence Interval\n",
    ". A confidence interval provides a range of values within which a true population mean is likely\n",
    "  to lie, with a certain levl of confidence(e.g., 95%)\n",
    "  \n",
    ". For example in above case, we are 95% confident that the true population falls between\n",
    "  86.4 and 89.6\n",
    "\n",
    ". It helps assess the precision of the sample mean as an estimate of the population mean.\n",
    "  Narrow intervas indicates higher precision, while wider intervals indiacte less precision.\n",
    "\n",
    "\"\"\""
   ]
  },
  {
   "cell_type": "code",
   "execution_count": 298,
   "id": "b2722026-9013-47c8-861b-afa8cf5bbafc",
   "metadata": {},
   "outputs": [],
   "source": [
    "#Q10. Write a Python program to calculate the margin of error for a given confidence level using sample data.\n",
    "import numpy as np\n",
    "from scipy.stats import norm\n",
    "\n",
    "def calculate_margin_of_error(data,confidence_level):\n",
    "    \"\"\"\n",
    "    calculate the margin of error for a given sample\n",
    "    :data = List of sample data\n",
    "    :confidence_level: Confidence level(e.g., 0.95 for 95%)\n",
    "    :return Margin of error\n",
    "    \"\"\"\n",
    "    #calculate statistics\n",
    "    sample_mean = np.mean(data)\n",
    "    sample_std = np.std(data, ddof =1)\n",
    "    sampe_size = len(data)\n",
    "\n",
    "    #calculate Z-value\n",
    "    z_value = norm.ppf((1+confidence_level)/2)\n",
    "     #calculate margin of error\n",
    "    margin_of_error = round(z_value *(sample_std/np.sqrt(sample_size)),3) \n",
    "\n",
    "    return margin_of_error"
   ]
  },
  {
   "cell_type": "code",
   "execution_count": 300,
   "id": "05d72235-2258-406e-8d14-4a03b3be45c7",
   "metadata": {},
   "outputs": [],
   "source": [
    "sample_data = [85, 88, 91, 87, 84, 90, 86, 89, 88, 92]\n",
    "confidence = 0.95"
   ]
  },
  {
   "cell_type": "code",
   "execution_count": 302,
   "id": "43efb308-4ee8-4aed-9efa-765ed6223e8f",
   "metadata": {},
   "outputs": [
    {
     "data": {
      "text/plain": [
       "1.6"
      ]
     },
     "execution_count": 302,
     "metadata": {},
     "output_type": "execute_result"
    }
   ],
   "source": [
    "calculate_margin_of_error(sample_data,confidence)"
   ]
  },
  {
   "cell_type": "code",
   "execution_count": null,
   "id": "ab462d07-5000-432e-9f48-e5a18dede44c",
   "metadata": {},
   "outputs": [],
   "source": [
    "#Q11. Implement a Bayesian inference method using Bayes' Theorem in Python and explain the process.\n",
    "\"\"\"\n",
    "Ans11. Suppose:\n",
    "        A: A person owns a car.\n",
    "        B: A person lives in a particular city.\n",
    "        \n",
    "        We want to calculate the probability that a person owns a car (A) given that they live \n",
    "        in the city (B). Using Bayes' Theorem:\n",
    "\n",
    "        𝑃(𝐴∣𝐵)= 𝑃(𝐵∣𝐴)⋅𝑃(𝐴) / 𝑃(𝐵)\n",
    "\n",
    "        P(A) = Probability of owning a car, regardless of living in the city\n",
    "        P(B) = Probability of living in a city\n",
    "        P(A/B) = Probability of owning a car, given that they live in city\n",
    "        P(B/A) = Probability of living in a city, given that the owns a car\n",
    "\"\"\""
   ]
  },
  {
   "cell_type": "code",
   "execution_count": 320,
   "id": "9cac94da-5b17-4cd7-a031-efdb0523a6ef",
   "metadata": {},
   "outputs": [],
   "source": [
    "def Bayesian_inference(prior_a, likelihood_b_gievn_a, marginal_b):\n",
    "    \"\"\"\n",
    "    :param prior_a: Prior probability of A (P(A))\n",
    "    :param likelihood_b_gievn_a: Likelihood of B given A (P(B|A))\n",
    "    :param marginal_b: marginal proability of b (P(B))\n",
    "    \"\"\"\n",
    "    posterior = round((prior_a * likelihood_b_given_a) / marginal_b,3)\n",
    "    return posterior"
   ]
  },
  {
   "cell_type": "code",
   "execution_count": 322,
   "id": "e96548a3-7a74-4a4a-b5d6-26f2a9bb93cc",
   "metadata": {},
   "outputs": [],
   "source": [
    "prior_a = 0.4\n",
    "likelihood_b_given_a = 0.7\n",
    "marginal_b = 0.5"
   ]
  },
  {
   "cell_type": "code",
   "execution_count": 324,
   "id": "25926789-3067-482f-88ee-3370760be415",
   "metadata": {},
   "outputs": [
    {
     "data": {
      "text/plain": [
       "0.56"
      ]
     },
     "execution_count": 324,
     "metadata": {},
     "output_type": "execute_result"
    }
   ],
   "source": [
    "Bayesian_inference(prior_a,likelihood_b_given_a,marginal_b)"
   ]
  },
  {
   "cell_type": "code",
   "execution_count": null,
   "id": "b041b76a-dcea-4528-98d4-656514718b99",
   "metadata": {},
   "outputs": [],
   "source": [
    "\"\"\"\n",
    "This means there is a 56% probability that a person owns a car given that they live\n",
    "in a city.\n",
    "\"\""
   ]
  },
  {
   "cell_type": "code",
   "execution_count": 336,
   "id": "210fd64d-db1a-4881-a4e1-e44d58b69c3d",
   "metadata": {},
   "outputs": [
    {
     "name": "stdout",
     "output_type": "stream",
     "text": [
      "Chi-Square Statistic:15.04\n",
      "P-value :0.000\n",
      "Degree of freedom:1\n",
      "Expected Frequencies: \n",
      "[[20. 20.]\n",
      " [30. 30.]]\n"
     ]
    }
   ],
   "source": [
    "#Q12. Perform a Chi-square test for independence between two categorical variables in Python.\n",
    "from scipy.stats import chi2_contingency\n",
    "\n",
    "data = np.array([[30,10],\n",
    "                [20,40]])\n",
    "\n",
    "#perform Chi-square test for independence\n",
    "\n",
    "chi2, p_value, dof, expected = chi2_contingency(data)\n",
    "\n",
    "#Results\n",
    "print(f'Chi-Square Statistic:{chi2:.2f}')\n",
    "print(f'P-value :{p_value:.3f}')\n",
    "print(f'Degree of freedom:{dof}')\n",
    "print('Expected Frequencies: ')\n",
    "print(expected)"
   ]
  },
  {
   "cell_type": "code",
   "execution_count": 338,
   "id": "1000df06-8e41-48fd-aed5-5c85e7f121b8",
   "metadata": {},
   "outputs": [
    {
     "name": "stdout",
     "output_type": "stream",
     "text": [
      "Observed Data\n",
      "[[30 10]\n",
      " [20 40]]\n",
      "Expected Frequencies: \n",
      "[[20. 20.]\n",
      " [30. 30.]]\n",
      "Chi-Square Statistic:15.04\n",
      "P-value :0.000\n",
      "Degree of freedom:1\n"
     ]
    }
   ],
   "source": [
    "#Q13.  Write a Python program to calculate the expected frequencies for a Chi-square test based on observed data\n",
    "data = np.array([[30,10],\n",
    "                [20,40]])\n",
    "\n",
    "#perform Chi-square test for independence\n",
    "\n",
    "chi2, p_value, dof, expected = chi2_contingency(data)\n",
    "\n",
    "#Results\n",
    "print(\"Observed Data\")\n",
    "print(data)\n",
    "print('Expected Frequencies: ')\n",
    "print(expected)\n",
    "print(f'Chi-Square Statistic:{chi2:.2f}')\n",
    "print(f'P-value :{p_value:.3f}')\n",
    "print(f'Degree of freedom:{dof}')"
   ]
  },
  {
   "cell_type": "code",
   "execution_count": 340,
   "id": "420025c7-fc4b-442b-9c15-e7be0e3f337f",
   "metadata": {},
   "outputs": [
    {
     "name": "stdout",
     "output_type": "stream",
     "text": [
      "Chi-square Statistic: 17.5\n",
      "P-value: 0.00015846132511575128\n"
     ]
    }
   ],
   "source": [
    "#Q14. Perform a goodness-of-fit test using Python to compare the observed data to an expected distribution\n",
    "from scipy.stats import chisquare   #chisquare for goodness of fit test\n",
    "\n",
    "observed = [50, 20, 30]\n",
    "expected = [40, 40, 20]\n",
    "\n",
    "#perform Goodness-of-fit test\n",
    "chi2, p_value = chisquare(f_obs=observed, f_exp= expected)\n",
    "\n",
    "print(f\"Chi-square Statistic: {chi2}\")\n",
    "print(f'P-value: {p_value}')"
   ]
  },
  {
   "cell_type": "code",
   "execution_count": 344,
   "id": "93c973e1-d68e-4914-bd59-ddd8948afde6",
   "metadata": {},
   "outputs": [
    {
     "name": "stdout",
     "output_type": "stream",
     "text": [
      "The observed data is significantly different from expected distribution\n"
     ]
    }
   ],
   "source": [
    "#check the significance\n",
    "alpha = 0.05\n",
    "if p_value < alpha:\n",
    "    print(\"The observed data is significantly different from expected distribution\")\n",
    "else:\n",
    "    print(\"The observed data does not significantly different from expected distribution\")"
   ]
  },
  {
   "cell_type": "code",
   "execution_count": 39,
   "id": "33e7fb38-8e23-4623-92b6-f662c35250ae",
   "metadata": {},
   "outputs": [
    {
     "data": {
      "image/png": "[encoded data removed]",
      "text/plain": [
       "<Figure size 1000x600 with 1 Axes>"
      ]
     },
     "metadata": {},
     "output_type": "display_data"
    }
   ],
   "source": [
    "#Q15. Create a Python script to simulate and visualize the Chi-square distribution and discuss its characteristics.\n",
    "import numpy as np\n",
    "from scipy.stats import chisquare\n",
    "import matplotlib.pyplot as plt\n",
    "from scipy.stats import chi2\n",
    "degree_of_freedom = 5\n",
    "size = 1000\n",
    "#chi-square distribution\n",
    "data = np.random.chisquare(degree_of_freedom,size)\n",
    "\n",
    "#visulaize\n",
    "plt.figure(figsize=(10,6))\n",
    "plt.hist(data,bins = 30, density = True)\n",
    "x = np.linspace(0,max(data),500)\n",
    "plt.plot(x,chi2.pdf(x,degree_of_freedom), label = 'theoritical PDF', color = 'Red')\n",
    "plt.title(\"Chi-square Distribution\")\n",
    "plt.show()"
   ]
  },
  {
   "cell_type": "code",
   "execution_count": null,
   "id": "7fc7dc4f-3bcf-4693-8ba0-97a4693d64d0",
   "metadata": {},
   "outputs": [],
   "source": [
    "\"\"\"\n",
    "Characterstics of Chi-square Distribution:\n",
    "\n",
    "1. Non-negative Values:\n",
    "            The Chi-square distribution only takes on no-negative values, as it is based on squared differences.\n",
    "2. Degree of freedom:\n",
    "            The shape of the distribution depends on the degree of freedom.\n",
    "3. Skewness:\n",
    "            The distriubution is right-skewed. The skewness decreases as the degre of \n",
    "            freedom incrases.\n",
    "\"\"\""
   ]
  },
  {
   "cell_type": "code",
   "execution_count": 43,
   "id": "defbae8c-5a6e-4956-aaa2-63ea63f5cf85",
   "metadata": {},
   "outputs": [
    {
     "name": "stdout",
     "output_type": "stream",
     "text": [
      "Variance of dataset 1: 7.47\n",
      "Variance of dataset 2: 15.83\n",
      "F-Statistics: 2.12\n",
      "F-Critical: 6.26\n"
     ]
    }
   ],
   "source": [
    "#Q16.  Implement an F-test using Python to compare the variances of two random samples.\n",
    "\n",
    "import numpy as np\n",
    "from scipy.stats import f\n",
    "\n",
    "data1 = [12, 15, 14, 10, 13, 18] \n",
    "data2 = [16, 11, 21, 14, 19, 17]\n",
    "\n",
    "#calculate variances\n",
    "var1 = np.var(data1, ddof =1)\n",
    "var2 = np.var(data2, ddof=2)\n",
    "\n",
    "#perfrom F-test\n",
    "f_stats = var1/var2 if var1>var2 else var2/var1\n",
    "df1 = len(data1)-1\n",
    "df2 = len(data2)-2\n",
    "\n",
    "#f_critical value\n",
    "alpha = 0.05\n",
    "f_critical = f.ppf(1-alpha, df1, df2)\n",
    "\n",
    "#results\n",
    "print(f'Variance of dataset 1: {var1:.2f}')\n",
    "print(f'Variance of dataset 2: {var2:.2f}')\n",
    "print(f'F-Statistics: {f_stats:.2f}')\n",
    "print(f'F-Critical: {f_critical:.2f}')"
   ]
  },
  {
   "cell_type": "code",
   "execution_count": 45,
   "id": "c56acfc4-45af-4fb3-a7d3-ab655a41fcdf",
   "metadata": {},
   "outputs": [
    {
     "name": "stdout",
     "output_type": "stream",
     "text": [
      "fail to reject the null hypothesis\n"
     ]
    }
   ],
   "source": [
    "#conlclusion\n",
    "if f_stats > f_critical:\n",
    "    print(\"Reject the null hypothesis\")\n",
    "else:\n",
    "    print(\"fail to reject the null hypothesis\")"
   ]
  },
  {
   "cell_type": "code",
   "execution_count": 51,
   "id": "b1d6bd5e-d4c6-4a75-aafe-ddcb6b76ffeb",
   "metadata": {},
   "outputs": [
    {
     "name": "stdout",
     "output_type": "stream",
     "text": [
      "F-Statistics: 73.60\n",
      "P-value: 0.0000\n"
     ]
    }
   ],
   "source": [
    "#Q17. Write a Python program to perform an ANOVA test to compare means between multiple groups and interpret the results\n",
    "import scipy.stats as stats\n",
    "\n",
    "group1 = [23, 20, 25, 22, 21]  \n",
    "group2 = [30, 32, 28, 33, 31] \n",
    "group3 = [35, 36, 38, 37, 34]\n",
    "\n",
    "#perform ANOVA test\n",
    "\n",
    "f_statistic, p_value = stats.f_oneway(group1, group2, group3)\n",
    "\n",
    "#Results\n",
    "print(f'F-Statistics: {f_statistic:.2f}')\n",
    "print(f'P-value: {p_value:.4f}')\n"
   ]
  },
  {
   "cell_type": "code",
   "execution_count": 53,
   "id": "3c4c4472-2d05-4bab-9e16-6771f2094a63",
   "metadata": {},
   "outputs": [
    {
     "name": "stdout",
     "output_type": "stream",
     "text": [
      "The means of the groups are significantly different\n"
     ]
    }
   ],
   "source": [
    "#interpretation\n",
    "alpha = 0.05\n",
    "if p_value < alpha:\n",
    "    print(\"The means of the groups are significantly different\")\n",
    "else:\n",
    "    print(\"The means of the groups are significantly different\")"
   ]
  },
  {
   "cell_type": "code",
   "execution_count": 63,
   "id": "d108c9e2-72c7-4f98-9169-718d8a6ad0a1",
   "metadata": {},
   "outputs": [
    {
     "name": "stdout",
     "output_type": "stream",
     "text": [
      "F-Statistics: 73.60\n",
      "P-value: 0.0000\n"
     ]
    }
   ],
   "source": [
    "#Q18.  Perform a one-way ANOVA test using Python to compare the means of different groups and plot the results\n",
    "\n",
    "import scipy.stats as stats\n",
    "\n",
    "group1 = [23, 20, 25, 22, 21]  \n",
    "group2 = [30, 32, 28, 33, 31] \n",
    "group3 = [35, 36, 38, 37, 34]\n",
    "\n",
    "#perform ANOVA test\n",
    "\n",
    "f_statistic, p_value = stats.f_oneway(group1, group2, group3)\n",
    "\n",
    "#Results\n",
    "print(f'F-Statistics: {f_statistic:.2f}')\n",
    "print(f'P-value: {p_value:.4f}')\n"
   ]
  },
  {
   "cell_type": "code",
   "execution_count": 65,
   "id": "bf00c97a-c8a8-4b40-9f92-4eebb2354bd0",
   "metadata": {},
   "outputs": [
    {
     "name": "stdout",
     "output_type": "stream",
     "text": [
      "The means of the groups are significantly different\n"
     ]
    }
   ],
   "source": [
    "#interpretation\n",
    "alpha = 0.05\n",
    "if p_value < alpha:\n",
    "    print(\"The means of the groups are significantly different\")\n",
    "else:\n",
    "    print(\"The means of the groups are significantly different\")"
   ]
  },
  {
   "cell_type": "code",
   "execution_count": 71,
   "id": "e5dc2e98-3593-47cc-b29e-f4f8c859179d",
   "metadata": {},
   "outputs": [
    {
     "data": {
      "image/png": "[encoded data removed]",
      "text/plain": [
       "<Figure size 640x480 with 1 Axes>"
      ]
     },
     "metadata": {},
     "output_type": "display_data"
    }
   ],
   "source": [
    "#visualization\n",
    "data = [group1, group2, group3]\n",
    "plt.boxplot(data)\n",
    "plt.title(\"Comparison of Means Across Group\")\n",
    "plt.ylabel(\"values\")\n",
    "plt.xlabel(\"Groups\")\n",
    "plt.grid(True, linestyle='--', alpha=0.6)\n",
    "plt.show()\n"
   ]
  },
  {
   "cell_type": "code",
   "execution_count": null,
   "id": "2669c902-a073-4df1-a410-14b9dc3fc5b0",
   "metadata": {},
   "outputs": [],
   "source": [
    "\"\"\"\n",
    "If the medians of box plt and spread overlaps significantly, the groups are likely\n",
    "to have similar means.\n",
    "If they differ like in above case, then ANOVA test may indicate significant differences.\n",
    "\"\"\""
   ]
  },
  {
   "cell_type": "code",
   "execution_count": 61,
   "id": "c2d13ea2-0c4c-430d-80b1-f6b6b1e7c9b2",
   "metadata": {},
   "outputs": [],
   "source": [
    "#Q19. Write a Python function to check the assumptions (normality, independence, and equal variance) for ANOVA.\n",
    "\n",
    "import scipy.stats as stats\n",
    "import pandas as pd\n",
    "import numpy as np\n",
    "import matplotlib.pyplot as plt\n",
    "\n",
    "def Check_anova_assumption(data, groups_column, value_column):\n",
    "    \"\"\"\n",
    "    Check the assumption for ANOVA: normality, independence, equal variance\n",
    "\n",
    "    Args:\n",
    "        data(pd.DataFrame): data containing group and their values\n",
    "        group_column(str): Name of the column containing group names.\n",
    "        equal_variance(str): Name of the column containing values.\n",
    "        \n",
    "    \"\"\"\n",
    "    #Normality Check\n",
    "    for group in data[groups_column].unique():\n",
    "        group_values = data[data[groups_column] == group][value_column]\n",
    "        if len(group_values) <3:\n",
    "            print(f\"Group {group} has fewer than 3 data points. Skipping normality test.\")\n",
    "            continue\n",
    "        stat, p_value = stats.shapiro(group_values)\n",
    "        \n",
    "        if p_value < 0.05:\n",
    "            print(f'Group{group} does not follow a norml distribution(p={p_value:.3f})')\n",
    "        else:\n",
    "            print(f'Group {group} follows a normal distribution(p={p_value:.3f})')\n",
    "\n",
    "    #Equal Variance Check\n",
    "    groups = [data[data[groups_column]==group][value_column] for group in data[groups_column].unique()]\n",
    "    stat, p_value = stats.levene(*groups)\n",
    "    if  p_value < 0.05:\n",
    "        print(f'Group do not have equal variances(p={p_value:.3f})')\n",
    "    else:\n",
    "        print(f'Groups have equal variances (p={p_value:.3f})')\n",
    "\n",
    "    #Independence is typically ensured by the studyy design "
   ]
  },
  {
   "cell_type": "code",
   "execution_count": 82,
   "id": "b6e8d91b-ec42-4c82-9db9-c77747f937d8",
   "metadata": {},
   "outputs": [],
   "source": [
    "#Q20.  Perform a two-way ANOVA test using Python to study the interaction between two factors and visualize the results\n",
    "import statsmodels.api as sm\n",
    "from statsmodels.formula.api import ols\n",
    "data = pd.DataFrame({\n",
    "    \"Factor_A\": [\"High\", \"High\", \"High\", \"Low\", \"Low\", \"Low\", \"High\", \"High\", \"Low\", \"Low\"],\n",
    "    \"Factor_B\": [\"A\", \"A\", \"B\", \"A\", \"B\", \"B\", \"A\", \"B\", \"A\", \"B\"],\n",
    "    \"Value\": [23, 25, 19, 28, 22, 20, 24, 21, 27, 20]\n",
    "})"
   ]
  },
  {
   "cell_type": "code",
   "execution_count": 86,
   "id": "6df1651f-42fd-4312-9570-4489f193a9ea",
   "metadata": {},
   "outputs": [
    {
     "name": "stdout",
     "output_type": "stream",
     "text": [
      "                          df     sum_sq    mean_sq          F    PR(>F)\n",
      "C(Factor_A)              1.0   2.500000   2.500000   2.093023  0.198119\n",
      "C(Factor_B)              1.0  70.416667  70.416667  58.953488  0.000255\n",
      "C(Factor_A):C(Factor_B)  1.0   4.816667   4.816667   4.032558  0.091392\n",
      "Residual                 6.0   7.166667   1.194444        NaN       NaN\n"
     ]
    }
   ],
   "source": [
    "#Two Way ANOVA test\n",
    "model = ols('Value ~ C(Factor_A) + C(Factor_B) + C(Factor_A):C(Factor_B)',data = data).fit()\n",
    "anova_table  = sm.stats.anova_lm(model, yp =2)\n",
    "print(anova_table)\n"
   ]
  },
  {
   "cell_type": "code",
   "execution_count": 90,
   "id": "5dc1dacb-db89-423e-8227-faab324a3765",
   "metadata": {},
   "outputs": [
    {
     "data": {
      "image/png": "[encoded data removed]",
      "text/plain": [
       "<Figure size 640x480 with 1 Axes>"
      ]
     },
     "metadata": {},
     "output_type": "display_data"
    }
   ],
   "source": [
    "#visualization\n",
    "import seaborn as sns\n",
    "sns.pointplot(data=data, x='Factor_B', y ='Value', hue = 'Factor_A')\n",
    "plt.xlabel('Factor_B')\n",
    "plt.ylabel('Value')\n",
    "plt.show()"
   ]
  },
  {
   "cell_type": "code",
   "execution_count": 102,
   "id": "1fd9d674-693b-4642-abdc-4417b2d4e4fb",
   "metadata": {},
   "outputs": [
    {
     "data": {
      "image/png": "[encoded data removed]",
      "text/plain": [
       "<Figure size 640x480 with 1 Axes>"
      ]
     },
     "metadata": {},
     "output_type": "display_data"
    }
   ],
   "source": [
    "#Q21. Write a Python program to visualize the F-distribution and discuss its use in hypothesis testing\n",
    "import seaborn as sns\n",
    "from scipy.stats import f\n",
    "#Parameter\n",
    "\n",
    "df1 = 5\n",
    "df2 =10\n",
    "\n",
    "#generate X valuees amd corresponding y values\n",
    "x = np.linspace(0,5,500)\n",
    "y = f.pdf(x,df1,df2)\n",
    "\n",
    "#Plot F_distribution\n",
    "sns.set(style='whitegrid')\n",
    "sns.lineplot(x = x, y =y,color = 'blue')\n",
    "plt.show()"
   ]
  },
  {
   "cell_type": "code",
   "execution_count": null,
   "id": "8e726c09-1138-4312-9491-407399d82565",
   "metadata": {},
   "outputs": [],
   "source": [
    "\"\"\"Use of F-distribution in Hypothesis Testing\n",
    "1. Analysis of Vaariance (ANOVA):\n",
    "    . It tests whether the variance between groups are significantly different\n",
    "    . The test statistic follow the F-distribution\n",
    "2. Regression Analysis:\n",
    "    . In multiple regression models, the F-test evaluates the significance of the \n",
    "      overall model.\n",
    "3. Comparing Variances:\n",
    "    . The F-distrbuution is used for comparinng the variances of two population,\n",
    "      often in Levene's or Bartlett's tests.\n",
    "    \"\"\""
   ]
  },
  {
   "cell_type": "code",
   "execution_count": 120,
   "id": "d8fafc8e-1c13-4113-8cd4-e8c70c4c11a7",
   "metadata": {},
   "outputs": [
    {
     "name": "stdout",
     "output_type": "stream",
     "text": [
      "F-Statistic: 40.67\n",
      "P-value: 0.0000\n"
     ]
    }
   ],
   "source": [
    "#Q22. Perform a one-way ANOVA test in Python and visualize the results with boxplots to compare group means\n",
    "from scipy.stats import f_oneway\n",
    "\n",
    "group1 = [23, 25, 27, 24, 26]\n",
    "group2 = [19, 20, 22, 21, 23]\n",
    "group3 = [29, 31, 28, 30, 32]\n",
    "\n",
    "#one way ANOVA Test\n",
    "f_statistic, p_value = f_oneway(group1, group2, group3)\n",
    "\n",
    "print(f'F-Statistic: {f_statistic:.2f}')\n",
    "print(f'P-value: {p_value:.4f}')"
   ]
  },
  {
   "cell_type": "code",
   "execution_count": 122,
   "id": "5b32b6d8-c2e6-4809-98d2-e795576c6941",
   "metadata": {},
   "outputs": [
    {
     "name": "stdout",
     "output_type": "stream",
     "text": [
      "The mean of the groups are the significantly different\n"
     ]
    }
   ],
   "source": [
    "#interpretation\n",
    "alpha = 0.05\n",
    "if p_value < alpha:\n",
    "    print(\"The mean of the groups are the significantly different\")\n",
    "else:\n",
    "    print(\"the mean of the groups are not  significantly different\")"
   ]
  },
  {
   "cell_type": "code",
   "execution_count": 134,
   "id": "970c3a40-6a13-486a-a140-33de7677d894",
   "metadata": {},
   "outputs": [
    {
     "data": {
      "image/png": "[encoded data removed]",
      "text/plain": [
       "<Figure size 640x480 with 1 Axes>"
      ]
     },
     "metadata": {},
     "output_type": "display_data"
    }
   ],
   "source": [
    "data = [group1, group2, group3]\n",
    "sns.boxplot(data=data)\n",
    "plt.xlabel(\"Groups\")\n",
    "plt.ylabel(\"Values\")\n",
    "plt.show()"
   ]
  },
  {
   "cell_type": "code",
   "execution_count": 216,
   "id": "e5ac56de-1a62-41ad-8503-b0109c6c1820",
   "metadata": {},
   "outputs": [
    {
     "name": "stdout",
     "output_type": "stream",
     "text": [
      "Z- Score: -0.05\n",
      "P-Value: 0.96\n"
     ]
    }
   ],
   "source": [
    "#Q23. Simulate random data from a normal distribution, then perform hypothesis testing to evaluate the means.\n",
    "from scipy.stats import norm\n",
    "pop_mean = 50\n",
    "pop_std = 10\n",
    "sample_size = 20\n",
    "sample = np.random.normal(pop_mean,pop_std,sample_size)\n",
    "\n",
    "#Hypothesis test parameter\n",
    "hypothesized_mean  = 52 ##(Null Hypothesis)\n",
    "significance_level = 0.05\n",
    "\n",
    "#calculate sample mean\n",
    "sample_mean = np.mean(sample)\n",
    "\n",
    "# perform Z-test\n",
    "Z_score = (sample_mean - hypothesized_mean)/(pop_std/np.sqrt(sample_size))\n",
    "\n",
    "# p-value \n",
    "p_value = 2* (1-norm.cdf(abs(Z_score)))\n",
    "\n",
    "print(f'Z- Score: {Z_score:.2f}')\n",
    "print(f'P-Value: {p_value:.2f}')"
   ]
  },
  {
   "cell_type": "code",
   "execution_count": 218,
   "id": "7323be86-0d35-45a0-97ff-f958b433e2fa",
   "metadata": {},
   "outputs": [
    {
     "name": "stdout",
     "output_type": "stream",
     "text": [
      "fail to reject the null hypothesis\n"
     ]
    }
   ],
   "source": [
    "# interpretation\n",
    "if p_value < significance_level:\n",
    "    print(\"Reject the null hypothesis: Sample mean is significantly different from pop mean\")\n",
    "else:\n",
    "    print(\"fail to reject the null hypothesis\")"
   ]
  },
  {
   "cell_type": "code",
   "execution_count": 191,
   "id": "baca752e-e3cd-446f-84a5-25e3065c8d8a",
   "metadata": {},
   "outputs": [],
   "source": [
    "#Q24. Perform a hypothesis test for population variance using a Chi-square distribution and interpret the results\n",
    "\n",
    "from scipy.stats import chi2\n",
    "\n",
    "population_variance = 100\n",
    "\n",
    "#sample data\n",
    "data = [85, 88, 92, 75, 80, 78, 84, 89, 76, 81, 79, 82, 87, 85, 80, 74, 90, 83, 77, 88]\n",
    "\n",
    "#sample_variaance\n",
    "sample_var = np.var(data, ddof =1)\n",
    "\n",
    "# degree of freedom\n",
    "df = len(data) -1"
   ]
  },
  {
   "cell_type": "code",
   "execution_count": 193,
   "id": "bd0d69ec-f22c-4e19-b771-f3ad5bcac0e1",
   "metadata": {},
   "outputs": [],
   "source": [
    "#chi-square statistic\n",
    "chi_square_stat = (df * sample_var) / population_variance"
   ]
  },
  {
   "cell_type": "code",
   "execution_count": 197,
   "id": "5a60d9b4-4254-4c1d-bf09-61c1fa4a9332",
   "metadata": {},
   "outputs": [],
   "source": [
    "#ccritical vaalue for two tail test\n",
    "alpha = 0.05\n",
    "chi2_critical_low = chi2.ppf(alpha/2,df)\n",
    "chi2_critical_high = chi2.ppf(1-alpha/2,df)"
   ]
  },
  {
   "cell_type": "code",
   "execution_count": 210,
   "id": "dbdc0e9e-7439-48f3-9f04-8841344633e8",
   "metadata": {},
   "outputs": [
    {
     "name": "stdout",
     "output_type": "stream",
     "text": [
      "reject the null hypothesis: The population variance is significantly different from 100\n"
     ]
    }
   ],
   "source": [
    "if chi_square_stat < chi2_critical_low or chi_square_stat > chi2_critical_high:\n",
    "    print(\"reject the null hypothesis: The population variance is significantly different from 100\")\n",
    "else:\n",
    "    print(\"Fail to reject the null hypothesis:  no significant difference in population variance\")"
   ]
  },
  {
   "cell_type": "code",
   "execution_count": null,
   "id": "43b470ea-58d3-48f1-825f-ed5e6f6b05d9",
   "metadata": {},
   "outputs": [],
   "source": []
  },
  {
   "cell_type": "code",
   "execution_count": null,
   "id": "07920580-621a-4305-b68d-bdeb9574b539",
   "metadata": {},
   "outputs": [],
   "source": [
    "#Q25. Write a Python script to perform a Z-test for comparing proportions between two datasets or groups\n",
    "\"\"\"\n",
    "Imagine we have two schools, and we want to compare the proportion of students who passed a math test.\n",
    "School A: 80 students passed out of 200.\n",
    "School B: 70 students passed out of 150.\n",
    "We want to test whether the passing rates are significantly different between the two schools\n",
    "\"\"\""
   ]
  },
  {
   "cell_type": "code",
   "execution_count": 173,
   "id": "7eb6b7f7-e27f-4db4-bb33-d2d0cbe86d68",
   "metadata": {},
   "outputs": [],
   "source": [
    "#data\n",
    "success = np.array([80,70])\n",
    "trails = np.array([200,150])"
   ]
  },
  {
   "cell_type": "code",
   "execution_count": 179,
   "id": "b0dab926-a1f5-46b2-bd42-67cd584daa35",
   "metadata": {},
   "outputs": [],
   "source": [
    "#perfrom Ztest\n",
    "from statsmodels.stats.proportion import proportions_ztest\n",
    "z_test,p_value = proportions_ztest(count =  success, nobs = trails, alternative = 'two-sided')"
   ]
  },
  {
   "cell_type": "code",
   "execution_count": 181,
   "id": "bee4eff8-baa9-4759-902e-50d0793aca1a",
   "metadata": {},
   "outputs": [
    {
     "data": {
      "text/plain": [
       "0.21231716077296503"
      ]
     },
     "execution_count": 181,
     "metadata": {},
     "output_type": "execute_result"
    }
   ],
   "source": [
    "p_value"
   ]
  },
  {
   "cell_type": "code",
   "execution_count": 183,
   "id": "b59f272e-af18-4ddf-bd46-9862fdcae6e5",
   "metadata": {},
   "outputs": [
    {
     "data": {
      "text/plain": [
       "-1.247219128924647"
      ]
     },
     "execution_count": 183,
     "metadata": {},
     "output_type": "execute_result"
    }
   ],
   "source": [
    "z_test\n"
   ]
  },
  {
   "cell_type": "code",
   "execution_count": 187,
   "id": "fa78eda3-3583-4543-9fb6-3d43ac79f3bd",
   "metadata": {},
   "outputs": [
    {
     "name": "stdout",
     "output_type": "stream",
     "text": [
      "Fail to reject the null hypothesis: No significat difference in passing\n"
     ]
    }
   ],
   "source": [
    "#result\n",
    "alpha = 0.05\n",
    "if p_value < alpha:\n",
    "    print(\"Reject the null  hypothesis: The passing are are significanntly different\")\n",
    "else:\n",
    "    print(\"Fail to reject the null hypothesis: No significat difference in passing\")\n"
   ]
  },
  {
   "cell_type": "code",
   "execution_count": 109,
   "id": "208eebe1-f74f-4a30-b97f-1ba835d3fc61",
   "metadata": {},
   "outputs": [],
   "source": [
    "#Q26. Implement an F-test for comparing the variances of two datasets, then interpret and visualize the results.\n",
    "\n",
    "#Simulate data\n",
    "data1 = np.random.normal(5,2,50)\n",
    "data2 =np.random.normal(5,3,50)"
   ]
  },
  {
   "cell_type": "code",
   "execution_count": 117,
   "id": "eb8b719d-7ba6-4b23-b7ee-1dffdeb08e8f",
   "metadata": {},
   "outputs": [],
   "source": [
    "#calculate variance\n",
    "var1 = np.var(data1)\n",
    "var2 = np.var(data2)"
   ]
  },
  {
   "cell_type": "code",
   "execution_count": 129,
   "id": "5e95cede-057b-41f6-b75c-d747f6ab8676",
   "metadata": {},
   "outputs": [],
   "source": [
    "#F-statistic\n",
    "F_stats = var1/var2 if var1> var2 else var2/var1"
   ]
  },
  {
   "cell_type": "code",
   "execution_count": 147,
   "id": "89f38d4e-0aad-4bb4-b9fd-fd1bf89d1fe7",
   "metadata": {},
   "outputs": [
    {
     "data": {
      "text/plain": [
       "1.9865827404939396"
      ]
     },
     "execution_count": 147,
     "metadata": {},
     "output_type": "execute_result"
    }
   ],
   "source": [
    "F_stats"
   ]
  },
  {
   "cell_type": "code",
   "execution_count": 133,
   "id": "53ebdd5a-a226-49f4-84a4-3bebee8b648e",
   "metadata": {},
   "outputs": [],
   "source": [
    "#degree of freedom\n",
    "dof1 = len(data1) -1\n",
    "dof2 = len(data2)-1"
   ]
  },
  {
   "cell_type": "code",
   "execution_count": 141,
   "id": "a0f5ffa0-bf16-4d30-831d-f4ae14505078",
   "metadata": {},
   "outputs": [],
   "source": [
    "#caculate F-critical\n",
    "from scipy.stats import f\n",
    "alpha = 0.05\n",
    "F_critical = f.ppf(1-alpha, dof1, dof2)"
   ]
  },
  {
   "cell_type": "code",
   "execution_count": 143,
   "id": "f2589d43-cece-473c-97c2-e4bac9a5fb5b",
   "metadata": {},
   "outputs": [
    {
     "data": {
      "text/plain": [
       "1.6072894627459253"
      ]
     },
     "execution_count": 143,
     "metadata": {},
     "output_type": "execute_result"
    }
   ],
   "source": [
    "F_critical"
   ]
  },
  {
   "cell_type": "code",
   "execution_count": 145,
   "id": "03f5e19a-74c8-44dc-8c48-6fcc1ae8bf78",
   "metadata": {},
   "outputs": [
    {
     "name": "stdout",
     "output_type": "stream",
     "text": [
      "Reject the nulll hypothesis, The variance are significantly different\n"
     ]
    }
   ],
   "source": [
    "#Decision\n",
    "if F_stats > F_critical:\n",
    "    print(\"Reject the nulll hypothesis, The variance are significantly different\")\n",
    "else:\n",
    "    print(\"Fail to reject the null hypothesis, The variance are not significantly different\")\n",
    "\n"
   ]
  },
  {
   "cell_type": "code",
   "execution_count": 171,
   "id": "23321039-bca6-4aa6-8578-09446bcd1167",
   "metadata": {},
   "outputs": [
    {
     "data": {
      "image/png": "[encoded data removed]",
      "text/plain": [
       "<Figure size 640x480 with 1 Axes>"
      ]
     },
     "metadata": {},
     "output_type": "display_data"
    }
   ],
   "source": [
    "#visualization\n",
    "import matplotlib.pyplot as plt\n",
    "combined_data = [data1, data2] \n",
    "\n",
    "sns.histplot(data = combined_data,bins = 10, alpha = 0.5)\n",
    "\n",
    "plt.show()"
   ]
  },
  {
   "cell_type": "code",
   "execution_count": 24,
   "id": "c07b9778-fa9d-4397-bca3-b08c01124bb8",
   "metadata": {},
   "outputs": [],
   "source": [
    "#Q27.  Perform a Chi-square test for goodness of fit with simulated data and analyze the results\n",
    "import pandas as pd\n",
    "import numpy as np\n",
    "import seaborn as sns\n",
    "import warnings\n",
    "warnings.filterwarnings('ignore')"
   ]
  },
  {
   "cell_type": "code",
   "execution_count": 26,
   "id": "f8bc37ef-a4d8-40f8-9d4c-9983f9d7709b",
   "metadata": {},
   "outputs": [],
   "source": [
    "data = sns.load_dataset('tips')"
   ]
  },
  {
   "cell_type": "code",
   "execution_count": 32,
   "id": "1f9428e8-c9d7-4845-8246-2b2dd3b5f060",
   "metadata": {},
   "outputs": [
    {
     "data": {
      "text/html": [
       "<div>\n",
       "<style scoped>\n",
       "    .dataframe tbody tr th:only-of-type {\n",
       "        vertical-align: middle;\n",
       "    }\n",
       "\n",
       "    .dataframe tbody tr th {\n",
       "        vertical-align: top;\n",
       "    }\n",
       "\n",
       "    .dataframe thead th {\n",
       "        text-align: right;\n",
       "    }\n",
       "</style>\n",
       "<table border=\"1\" class=\"dataframe\">\n",
       "  <thead>\n",
       "    <tr style=\"text-align: right;\">\n",
       "      <th></th>\n",
       "      <th>sex</th>\n",
       "      <th>smoker</th>\n",
       "    </tr>\n",
       "  </thead>\n",
       "  <tbody>\n",
       "    <tr>\n",
       "      <th>0</th>\n",
       "      <td>Female</td>\n",
       "      <td>No</td>\n",
       "    </tr>\n",
       "    <tr>\n",
       "      <th>1</th>\n",
       "      <td>Male</td>\n",
       "      <td>No</td>\n",
       "    </tr>\n",
       "    <tr>\n",
       "      <th>2</th>\n",
       "      <td>Male</td>\n",
       "      <td>No</td>\n",
       "    </tr>\n",
       "    <tr>\n",
       "      <th>3</th>\n",
       "      <td>Male</td>\n",
       "      <td>No</td>\n",
       "    </tr>\n",
       "    <tr>\n",
       "      <th>4</th>\n",
       "      <td>Female</td>\n",
       "      <td>No</td>\n",
       "    </tr>\n",
       "    <tr>\n",
       "      <th>...</th>\n",
       "      <td>...</td>\n",
       "      <td>...</td>\n",
       "    </tr>\n",
       "    <tr>\n",
       "      <th>239</th>\n",
       "      <td>Male</td>\n",
       "      <td>No</td>\n",
       "    </tr>\n",
       "    <tr>\n",
       "      <th>240</th>\n",
       "      <td>Female</td>\n",
       "      <td>Yes</td>\n",
       "    </tr>\n",
       "    <tr>\n",
       "      <th>241</th>\n",
       "      <td>Male</td>\n",
       "      <td>Yes</td>\n",
       "    </tr>\n",
       "    <tr>\n",
       "      <th>242</th>\n",
       "      <td>Male</td>\n",
       "      <td>No</td>\n",
       "    </tr>\n",
       "    <tr>\n",
       "      <th>243</th>\n",
       "      <td>Female</td>\n",
       "      <td>No</td>\n",
       "    </tr>\n",
       "  </tbody>\n",
       "</table>\n",
       "<p>244 rows × 2 columns</p>\n",
       "</div>"
      ],
      "text/plain": [
       "        sex smoker\n",
       "0    Female     No\n",
       "1      Male     No\n",
       "2      Male     No\n",
       "3      Male     No\n",
       "4    Female     No\n",
       "..      ...    ...\n",
       "239    Male     No\n",
       "240  Female    Yes\n",
       "241    Male    Yes\n",
       "242    Male     No\n",
       "243  Female     No\n",
       "\n",
       "[244 rows x 2 columns]"
      ]
     },
     "execution_count": 32,
     "metadata": {},
     "output_type": "execute_result"
    }
   ],
   "source": [
    "data[['sex','smoker']]"
   ]
  },
  {
   "cell_type": "code",
   "execution_count": 36,
   "id": "1da54a8d-54de-487d-8d01-089cd5c8f2b2",
   "metadata": {},
   "outputs": [],
   "source": [
    "#sumarisation of data\n",
    "data_table = pd.crosstab(data['sex'], data['smoker'])"
   ]
  },
  {
   "cell_type": "code",
   "execution_count": 97,
   "id": "f0cb1cab-229d-436b-b257-32086f64add1",
   "metadata": {},
   "outputs": [
    {
     "data": {
      "text/html": [
       "<div>\n",
       "<style scoped>\n",
       "    .dataframe tbody tr th:only-of-type {\n",
       "        vertical-align: middle;\n",
       "    }\n",
       "\n",
       "    .dataframe tbody tr th {\n",
       "        vertical-align: top;\n",
       "    }\n",
       "\n",
       "    .dataframe thead th {\n",
       "        text-align: right;\n",
       "    }\n",
       "</style>\n",
       "<table border=\"1\" class=\"dataframe\">\n",
       "  <thead>\n",
       "    <tr style=\"text-align: right;\">\n",
       "      <th>smoker</th>\n",
       "      <th>Yes</th>\n",
       "      <th>No</th>\n",
       "    </tr>\n",
       "    <tr>\n",
       "      <th>sex</th>\n",
       "      <th></th>\n",
       "      <th></th>\n",
       "    </tr>\n",
       "  </thead>\n",
       "  <tbody>\n",
       "    <tr>\n",
       "      <th>Male</th>\n",
       "      <td>60</td>\n",
       "      <td>97</td>\n",
       "    </tr>\n",
       "    <tr>\n",
       "      <th>Female</th>\n",
       "      <td>33</td>\n",
       "      <td>54</td>\n",
       "    </tr>\n",
       "  </tbody>\n",
       "</table>\n",
       "</div>"
      ],
      "text/plain": [
       "smoker  Yes  No\n",
       "sex            \n",
       "Male     60  97\n",
       "Female   33  54"
      ]
     },
     "execution_count": 97,
     "metadata": {},
     "output_type": "execute_result"
    }
   ],
   "source": [
    "data_table\n"
   ]
  },
  {
   "cell_type": "code",
   "execution_count": 45,
   "id": "8a0f1f2d-e4ab-4f35-90d5-f68a493acb27",
   "metadata": {},
   "outputs": [],
   "source": [
    "observed_value = data_table.value"
   ]
  },
  {
   "cell_type": "code",
   "execution_count": 55,
   "id": "fcf5dc91-9301-4d85-831a-1f22b98dd1a6",
   "metadata": {},
   "outputs": [],
   "source": [
    "import scipy.stats as stats\n",
    "stats_test, p,dof, expected_value = stats.chi2_contingency(observed_value)"
   ]
  },
  {
   "cell_type": "code",
   "execution_count": 57,
   "id": "87f5895a-ca56-4262-a161-71480b689102",
   "metadata": {},
   "outputs": [
    {
     "data": {
      "text/plain": [
       "array([[59.84016393, 97.15983607],\n",
       "       [33.15983607, 53.84016393]])"
      ]
     },
     "execution_count": 57,
     "metadata": {},
     "output_type": "execute_result"
    }
   ],
   "source": [
    "expected_value"
   ]
  },
  {
   "cell_type": "code",
   "execution_count": 61,
   "id": "5afd3fbb-cad3-4879-a41f-47c06dc84373",
   "metadata": {},
   "outputs": [
    {
     "data": {
      "text/plain": [
       "1"
      ]
     },
     "execution_count": 61,
     "metadata": {},
     "output_type": "execute_result"
    }
   ],
   "source": [
    "#using chisquare critical method\n",
    "dof =1"
   ]
  },
  {
   "cell_type": "code",
   "execution_count": 67,
   "id": "c6f744e4-94be-4826-918f-f9f31a04ee6c",
   "metadata": {},
   "outputs": [
    {
     "name": "stdout",
     "output_type": "stream",
     "text": [
      "(array([60, 97], dtype=int64), array([59.84016393, 97.15983607]))\n",
      "(array([33, 54], dtype=int64), array([33.15983607, 53.84016393]))\n"
     ]
    }
   ],
   "source": [
    "from scipy.stats import chi2\n",
    "for i in zip(observed_value,expected_value):\n",
    "    print(i)"
   ]
  },
  {
   "cell_type": "code",
   "execution_count": 79,
   "id": "62857edf-9c95-4338-b8cf-adaa3841a424",
   "metadata": {},
   "outputs": [],
   "source": [
    "chi_square_test  = sum([(o-e)**2/e for o, e in zip(observed_value,expected_value)])"
   ]
  },
  {
   "cell_type": "code",
   "execution_count": 81,
   "id": "ac85fe80-0272-468d-b710-8f2589f3fcdd",
   "metadata": {},
   "outputs": [
    {
     "data": {
      "text/plain": [
       "array([0.00119737, 0.00073745])"
      ]
     },
     "execution_count": 81,
     "metadata": {},
     "output_type": "execute_result"
    }
   ],
   "source": [
    "chi_square_test"
   ]
  },
  {
   "cell_type": "code",
   "execution_count": 85,
   "id": "d895f1e3-54ea-45e8-a637-a376a6d7bc28",
   "metadata": {},
   "outputs": [],
   "source": [
    "chi_square_stats = chi_square_test[0] + chi_square_test[1]"
   ]
  },
  {
   "cell_type": "code",
   "execution_count": 87,
   "id": "d516e91b-8557-4381-a556-272c456acb11",
   "metadata": {},
   "outputs": [
    {
     "data": {
      "text/plain": [
       "0.001934818536627623"
      ]
     },
     "execution_count": 87,
     "metadata": {},
     "output_type": "execute_result"
    }
   ],
   "source": [
    "chi_square_stats"
   ]
  },
  {
   "cell_type": "code",
   "execution_count": 89,
   "id": "4e1553bf-97ed-42f5-bfe4-d6ea6a697c86",
   "metadata": {},
   "outputs": [],
   "source": [
    "alpha = 0.05"
   ]
  },
  {
   "cell_type": "code",
   "execution_count": 93,
   "id": "f502f85e-77d2-4fd7-a585-c492c3fc562f",
   "metadata": {},
   "outputs": [],
   "source": [
    "chi2_critical = chi2.ppf(1-alpha, dof)"
   ]
  },
  {
   "cell_type": "code",
   "execution_count": 101,
   "id": "f23c5cb1-d906-4a28-8013-78e9a09dd3f9",
   "metadata": {},
   "outputs": [
    {
     "data": {
      "text/plain": [
       "3.841458820694124"
      ]
     },
     "execution_count": 101,
     "metadata": {},
     "output_type": "execute_result"
    }
   ],
   "source": [
    "chi2_critical"
   ]
  },
  {
   "cell_type": "code",
   "execution_count": 95,
   "id": "3cfb765a-c0a5-407d-a208-bb6adde557db",
   "metadata": {},
   "outputs": [
    {
     "name": "stdout",
     "output_type": "stream",
     "text": [
      "fail to reject the null hypothesis, no relationship  \n"
     ]
    }
   ],
   "source": [
    "if chi_square_stats >= chi2_critical:\n",
    "    print(\"Reject the null hyothesis there is a relationship between two categorial variable\")\n",
    "else:\n",
    "    print(\"fail to reject the null hypothesis, no relationship \")"
   ]
  },
  {
   "cell_type": "code",
   "execution_count": null,
   "id": "37dc70f1-c9c3-4a2d-a7f0-0ff2bf1cff4d",
   "metadata": {},
   "outputs": [],
   "source": []
  }
 ],
 "metadata": {
  "kernelspec": {
   "display_name": "Python [conda env:base] *",
   "language": "python",
   "name": "conda-base-py"
  },
  "language_info": {
   "codemirror_mode": {
    "name": "ipython",
    "version": 3
   },
   "file_extension": ".py",
   "mimetype": "text/x-python",
   "name": "python",
   "nbconvert_exporter": "python",
   "pygments_lexer": "ipython3",
   "version": "3.12.7"
  }
 },
 "nbformat": 4,
 "nbformat_minor": 5
}
